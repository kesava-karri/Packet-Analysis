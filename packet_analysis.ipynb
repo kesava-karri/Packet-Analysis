{
 "cells": [
  {
   "cell_type": "markdown",
   "metadata": {
    "id": "m90KssqH0vks"
   },
   "source": [
    "# Network Packet Analysis using Python"
   ]
  },
  {
   "cell_type": "markdown",
   "metadata": {
    "id": "7SHxoy2ZtsFl"
   },
   "source": [
    "Dependencies"
   ]
  },
  {
   "cell_type": "code",
   "execution_count": 1,
   "metadata": {
    "colab": {
     "base_uri": "https://localhost:8080/"
    },
    "executionInfo": {
     "elapsed": 36181,
     "status": "ok",
     "timestamp": 1625800537189,
     "user": {
      "displayName": "Junjie Zhang",
      "photoUrl": "https://lh3.googleusercontent.com/a-/AOh14GgdQyR6-rprRyw_GKIrRQgfJ0SVOpo9VIbE6K5CT60=s64",
      "userId": "13569827905917883992"
     },
     "user_tz": 240
    },
    "id": "7VzDDwn1f_c6",
    "outputId": "08d6f42f-7568-440d-85d4-e503a55b0989"
   },
   "outputs": [
    {
     "name": "stdout",
     "output_type": "stream",
     "text": [
      "Collecting scapy\n",
      "\u001b[?25l  Downloading https://files.pythonhosted.org/packages/85/47/c919432ca258f354bb2c1e645623f891603f185bfc7563d4a21f6432e7ed/scapy-2.4.5.tar.gz (1.1MB)\n",
      "\u001b[K     |████████████████████████████████| 1.1MB 5.0MB/s \n",
      "\u001b[?25hBuilding wheels for collected packages: scapy\n",
      "  Building wheel for scapy (setup.py) ... \u001b[?25l\u001b[?25hdone\n",
      "  Created wheel for scapy: filename=scapy-2.4.5-py2.py3-none-any.whl size=1261554 sha256=df0d5bec67e64607e5f5b6466114546474833cd314e922d5933ebc7edf303186\n",
      "  Stored in directory: /root/.cache/pip/wheels/31/80/dc/d5fc39b70e1af4f4636356c849de414a76e83a89d8ee9cd78f\n",
      "Successfully built scapy\n",
      "Installing collected packages: scapy\n",
      "Successfully installed scapy-2.4.5\n",
      "--2021-07-09 03:15:07--  https://mcfp.felk.cvut.cz/publicDatasets/CTU-Malware-Capture-Botnet-91/capture.botnet2.infected.1.pcap\n",
      "Resolving mcfp.felk.cvut.cz (mcfp.felk.cvut.cz)... 147.32.82.194\n",
      "Connecting to mcfp.felk.cvut.cz (mcfp.felk.cvut.cz)|147.32.82.194|:443... connected.\n",
      "HTTP request sent, awaiting response... 200 OK\n",
      "Length: 27738197 (26M) [application/vnd.tcpdump.pcap]\n",
      "Saving to: ‘capture.botnet2.infected.1.pcap’\n",
      "\n",
      "capture.botnet2.inf 100%[===================>]  26.45M  1.53MB/s    in 28s     \n",
      "\n",
      "2021-07-09 03:15:36 (961 KB/s) - ‘capture.botnet2.infected.1.pcap’ saved [27738197/27738197]\n",
      "\n"
     ]
    }
   ],
   "source": [
    "!pip install scapy\n",
    "!wget https://mcfp.felk.cvut.cz/publicDatasets/CTU-Malware-Capture-Botnet-91/capture.botnet2.infected.1.pcap # the link to download pcap file"
   ]
  },
  {
   "cell_type": "markdown",
   "metadata": {
    "id": "5Ci3gBtEuL-C"
   },
   "source": [
    "Imports"
   ]
  },
  {
   "cell_type": "code",
   "execution_count": 2,
   "metadata": {
    "executionInfo": {
     "elapsed": 1073,
     "status": "ok",
     "timestamp": 1625800546266,
     "user": {
      "displayName": "Junjie Zhang",
      "photoUrl": "https://lh3.googleusercontent.com/a-/AOh14GgdQyR6-rprRyw_GKIrRQgfJ0SVOpo9VIbE6K5CT60=s64",
      "userId": "13569827905917883992"
     },
     "user_tz": 240
    },
    "id": "h1ebUQj-hYSy"
   },
   "outputs": [],
   "source": [
    "from scapy.all import *\n",
    "from scapy.layers.dns import DNS, DNSQR, DNSRR\n",
    "from tqdm import tqdm #Progress bar [Can be used only for loops]\n",
    "import numpy as np\n",
    "import pandas as pd\n",
    "from datetime import datetime\n",
    "import seaborn as sns\n",
    "import matplotlib.pyplot as plt"
   ]
  },
  {
   "cell_type": "markdown",
   "metadata": {
    "id": "lfEIbtIsuboN"
   },
   "source": [
    "Reading packets from pcap file"
   ]
  },
  {
   "cell_type": "code",
   "execution_count": null,
   "metadata": {
    "id": "OTIPDJ2shSZU"
   },
   "outputs": [],
   "source": [
    "pkts = rdpcap('capture.botnet2.infected.1.pcap') # Reading and storing the packets in 'pkts'"
   ]
  },
  {
   "cell_type": "markdown",
   "metadata": {
    "id": "lJFJNcggOfVY"
   },
   "source": [
    "### Task 1"
   ]
  },
  {
   "cell_type": "markdown",
   "metadata": {
    "id": "yGBELvvG5ods"
   },
   "source": [
    "1. Generate a CSV file of all DNS queries. Each line in this CSV file indicates a DNS query, which includes the \n",
    "timestamp, the source IP address, the destination IP address, and the domain name in this DNS query."
   ]
  },
  {
   "cell_type": "code",
   "execution_count": null,
   "metadata": {
    "colab": {
     "base_uri": "https://localhost:8080/"
    },
    "executionInfo": {
     "elapsed": 9628,
     "status": "ok",
     "timestamp": 1625778377186,
     "user": {
      "displayName": "Kesava Karri",
      "photoUrl": "https://lh3.googleusercontent.com/a-/AOh14GiKOze0GA7fRhcXqzqiBopk4OIC1yA4DDxB84eFBw=s64",
      "userId": "16199566419544100345"
     },
     "user_tz": 240
    },
    "id": "Q9NblePKKIvJ",
    "outputId": "77870911-f49d-4537-9668-48be64e44f64"
   },
   "outputs": [
    {
     "name": "stderr",
     "output_type": "stream",
     "text": [
      "100%|██████████| 198818/198818 [00:09<00:00, 20985.96it/s]\n"
     ]
    }
   ],
   "source": [
    "def create_dns_queries(pkts):\n",
    "  \"\"\"\n",
    "  Function to return a list of all the dns queries\n",
    "  :param pkts: PacketList\n",
    "\n",
    "  returns (list)\n",
    "  \"\"\"\n",
    "  dns_queries = []\n",
    "  for packet in tqdm(pkts): # iterating through the packets\n",
    "    if packet.haslayer(DNS):\n",
    "      t = {\n",
    "        'time': packet.time,\n",
    "        'src': packet.getlayer(IP).src if packet.haslayer(IP) else np.nan,\n",
    "        'dst': packet[IP].dst if packet.haslayer(IP) else np.nan,\n",
    "        'domain': np.nan,\n",
    "        'record_type': np.nan\n",
    "      }\n",
    "      if packet.haslayer(DNSRR):\n",
    "        t['domain'] = packet[DNSRR].rrname.decode()\n",
    "        t['record_type'] = packet[DNSRR].get_field('type').i2repr(packet, packet[DNSRR].type)\n",
    "      elif packet.haslayer(DNSQR):\n",
    "        t['domain'] = packet[DNSQR].qname.decode()\n",
    "        t['record_type'] = packet[DNSQR].get_field('qtype').i2repr(packet, packet[DNSQR].qtype)\n",
    "      dns_queries.append(t) # Appending the dictionary 't' to list 'dns_queries'\n",
    "  return dns_queries\n",
    "\n",
    "  \n",
    "df = pd.DataFrame(create_dns_queries(pkts)) # Creating DataFrame 'df' from the list 'dns_queries'\n",
    "df.to_csv('Task1.csv', index=False) # Converting 'df' to csv file 'Task1.csv'"
   ]
  },
  {
   "cell_type": "markdown",
   "metadata": {
    "id": "CMNf-p78TmvL"
   },
   "source": [
    "Sample of first 10 entries in the 'Task1.csv'"
   ]
  },
  {
   "cell_type": "code",
   "execution_count": null,
   "metadata": {
    "colab": {
     "base_uri": "https://localhost:8080/",
     "height": 357
    },
    "executionInfo": {
     "elapsed": 43,
     "status": "ok",
     "timestamp": 1625778377188,
     "user": {
      "displayName": "Kesava Karri",
      "photoUrl": "https://lh3.googleusercontent.com/a-/AOh14GiKOze0GA7fRhcXqzqiBopk4OIC1yA4DDxB84eFBw=s64",
      "userId": "16199566419544100345"
     },
     "user_tz": 240
    },
    "id": "bqTUx8x3TO1h",
    "outputId": "3ff7ec6a-b94b-4f81-99f5-32f275a0c855"
   },
   "outputs": [
    {
     "data": {
      "text/html": [
       "<div>\n",
       "<style scoped>\n",
       "    .dataframe tbody tr th:only-of-type {\n",
       "        vertical-align: middle;\n",
       "    }\n",
       "\n",
       "    .dataframe tbody tr th {\n",
       "        vertical-align: top;\n",
       "    }\n",
       "\n",
       "    .dataframe thead th {\n",
       "        text-align: right;\n",
       "    }\n",
       "</style>\n",
       "<table border=\"1\" class=\"dataframe\">\n",
       "  <thead>\n",
       "    <tr style=\"text-align: right;\">\n",
       "      <th></th>\n",
       "      <th>time</th>\n",
       "      <th>src</th>\n",
       "      <th>dst</th>\n",
       "      <th>domain</th>\n",
       "      <th>record_type</th>\n",
       "    </tr>\n",
       "  </thead>\n",
       "  <tbody>\n",
       "    <tr>\n",
       "      <th>0</th>\n",
       "      <td>1252782452.901660</td>\n",
       "      <td>192.168.1.55</td>\n",
       "      <td>224.0.0.251</td>\n",
       "      <td>186.182.88.77.in-addr.arpa.</td>\n",
       "      <td>PTR</td>\n",
       "    </tr>\n",
       "    <tr>\n",
       "      <th>1</th>\n",
       "      <td>1252782453.229651</td>\n",
       "      <td>200.51.43.5</td>\n",
       "      <td>192.168.1.236</td>\n",
       "      <td>baxall.com.</td>\n",
       "      <td>MX</td>\n",
       "    </tr>\n",
       "    <tr>\n",
       "      <th>2</th>\n",
       "      <td>1252782453.229667</td>\n",
       "      <td>192.168.1.236</td>\n",
       "      <td>192.168.5.1</td>\n",
       "      <td>baxall.com.</td>\n",
       "      <td>MX</td>\n",
       "    </tr>\n",
       "    <tr>\n",
       "      <th>3</th>\n",
       "      <td>1252782453.241589</td>\n",
       "      <td>192.168.1.91</td>\n",
       "      <td>192.168.5.1</td>\n",
       "      <td>uppinghm.demon.co.uk.</td>\n",
       "      <td>MX</td>\n",
       "    </tr>\n",
       "    <tr>\n",
       "      <th>4</th>\n",
       "      <td>1252782453.304021</td>\n",
       "      <td>192.168.1.91</td>\n",
       "      <td>200.51.43.5</td>\n",
       "      <td>uppington1975.wanadoo.co.uk.</td>\n",
       "      <td>MX</td>\n",
       "    </tr>\n",
       "    <tr>\n",
       "      <th>5</th>\n",
       "      <td>1252782453.305735</td>\n",
       "      <td>200.51.43.5</td>\n",
       "      <td>192.168.1.91</td>\n",
       "      <td>uppington1975.wanadoo.co.uk.</td>\n",
       "      <td>MX</td>\n",
       "    </tr>\n",
       "    <tr>\n",
       "      <th>6</th>\n",
       "      <td>1252782453.306443</td>\n",
       "      <td>192.168.1.91</td>\n",
       "      <td>200.51.43.5</td>\n",
       "      <td>uppington1975.wanadoo.co.uk.</td>\n",
       "      <td>MX</td>\n",
       "    </tr>\n",
       "    <tr>\n",
       "      <th>7</th>\n",
       "      <td>1252782453.307320</td>\n",
       "      <td>200.51.43.5</td>\n",
       "      <td>192.168.1.91</td>\n",
       "      <td>uppington1975.wanadoo.co.uk.</td>\n",
       "      <td>MX</td>\n",
       "    </tr>\n",
       "    <tr>\n",
       "      <th>8</th>\n",
       "      <td>1252782453.413140</td>\n",
       "      <td>192.168.1.91</td>\n",
       "      <td>200.51.43.5</td>\n",
       "      <td>uppington1975.wanadoo.co.uk.</td>\n",
       "      <td>MX</td>\n",
       "    </tr>\n",
       "    <tr>\n",
       "      <th>9</th>\n",
       "      <td>1252782453.423540</td>\n",
       "      <td>200.51.43.5</td>\n",
       "      <td>192.168.1.91</td>\n",
       "      <td>uppington1975.wanadoo.co.uk.</td>\n",
       "      <td>MX</td>\n",
       "    </tr>\n",
       "  </tbody>\n",
       "</table>\n",
       "</div>"
      ],
      "text/plain": [
       "                time            src  ...                        domain record_type\n",
       "0  1252782452.901660   192.168.1.55  ...   186.182.88.77.in-addr.arpa.         PTR\n",
       "1  1252782453.229651    200.51.43.5  ...                   baxall.com.          MX\n",
       "2  1252782453.229667  192.168.1.236  ...                   baxall.com.          MX\n",
       "3  1252782453.241589   192.168.1.91  ...         uppinghm.demon.co.uk.          MX\n",
       "4  1252782453.304021   192.168.1.91  ...  uppington1975.wanadoo.co.uk.          MX\n",
       "5  1252782453.305735    200.51.43.5  ...  uppington1975.wanadoo.co.uk.          MX\n",
       "6  1252782453.306443   192.168.1.91  ...  uppington1975.wanadoo.co.uk.          MX\n",
       "7  1252782453.307320    200.51.43.5  ...  uppington1975.wanadoo.co.uk.          MX\n",
       "8  1252782453.413140   192.168.1.91  ...  uppington1975.wanadoo.co.uk.          MX\n",
       "9  1252782453.423540    200.51.43.5  ...  uppington1975.wanadoo.co.uk.          MX\n",
       "\n",
       "[10 rows x 5 columns]"
      ]
     },
     "execution_count": 32,
     "metadata": {
      "tags": []
     },
     "output_type": "execute_result"
    }
   ],
   "source": [
    "df[:10]"
   ]
  },
  {
   "cell_type": "markdown",
   "metadata": {
    "id": "lBLxnMIKTzYa"
   },
   "source": [
    "### Task 2"
   ]
  },
  {
   "cell_type": "markdown",
   "metadata": {
    "id": "2XyEprMk3cx9"
   },
   "source": [
    "2. Using pandas to analyze this CSV file to: \n",
    "\n",
    " i) generate a table (Table I) with two columns: the first column is the source IP address and the second one is the number of DNS records this source IP has generated. The table should be sorted in a descending order of the second column."
   ]
  },
  {
   "cell_type": "code",
   "execution_count": null,
   "metadata": {
    "colab": {
     "base_uri": "https://localhost:8080/"
    },
    "executionInfo": {
     "elapsed": 18,
     "status": "ok",
     "timestamp": 1625778377190,
     "user": {
      "displayName": "Kesava Karri",
      "photoUrl": "https://lh3.googleusercontent.com/a-/AOh14GiKOze0GA7fRhcXqzqiBopk4OIC1yA4DDxB84eFBw=s64",
      "userId": "16199566419544100345"
     },
     "user_tz": 240
    },
    "id": "P4pxWY6laSo7",
    "outputId": "13bd5c00-72e8-4435-da7c-8f6c532c96e4"
   },
   "outputs": [
    {
     "name": "stdout",
     "output_type": "stream",
     "text": [
      "Table I\n",
      "            src  dns_count\n",
      "   200.51.43.5       3951\n",
      " 192.168.1.236        827\n",
      " 192.168.1.243        787\n",
      "  192.168.1.91        640\n",
      " 192.168.1.239        565\n",
      " 192.168.1.242        375\n",
      "  192.168.1.71        375\n",
      " 192.168.1.238        374\n",
      " 192.168.1.245        374\n",
      "   192.168.1.9        374\n",
      " 192.168.1.247        231\n",
      "  192.168.1.55        123\n",
      "  192.168.1.64         31\n",
      " 192.168.1.155         18\n",
      "  192.168.1.52          4\n",
      "  192.168.1.36          3\n"
     ]
    }
   ],
   "source": [
    "table1 = df[['src','record_type']].groupby('src').count().sort_values(by='record_type', ascending=False).reset_index()\n",
    "table1.rename(columns={'record_type': 'dns_count'}, inplace=True)\n",
    "print('Table I\\n', table1.to_string(index=False))"
   ]
  },
  {
   "cell_type": "markdown",
   "metadata": {
    "id": "7lvz-06Y39_1"
   },
   "source": [
    "2. Using pandas to analyze this CSV file to: \n",
    "\n",
    "  ii) generate a table (Table II) with three columns the first column is the hour the timestamp belongs to, the second column is the source IP address, and the third column is the DNS queries generated by this source IP within this hour. \n"
   ]
  },
  {
   "cell_type": "code",
   "execution_count": null,
   "metadata": {
    "colab": {
     "base_uri": "https://localhost:8080/"
    },
    "executionInfo": {
     "elapsed": 911,
     "status": "ok",
     "timestamp": 1625778378088,
     "user": {
      "displayName": "Kesava Karri",
      "photoUrl": "https://lh3.googleusercontent.com/a-/AOh14GiKOze0GA7fRhcXqzqiBopk4OIC1yA4DDxB84eFBw=s64",
      "userId": "16199566419544100345"
     },
     "user_tz": 240
    },
    "id": "kHk2W7NkiOwj",
    "outputId": "0c70f5a9-4be4-4785-f36e-4f90543dfcf6"
   },
   "outputs": [
    {
     "name": "stdout",
     "output_type": "stream",
     "text": [
      "Table II\n",
      "                     dnsQueries_count\n",
      "time src                            \n",
      "7    192.168.1.236                58\n",
      "     192.168.1.239                12\n",
      "     192.168.1.243                 3\n",
      "     192.168.1.247                 4\n",
      "     192.168.1.55                 39\n",
      "...                              ...\n",
      "24   200.51.43.5                  22\n",
      "25   192.168.1.155                 1\n",
      "     200.51.43.5                   1\n",
      "28   192.168.1.91                  5\n",
      "     200.51.43.5                   3\n",
      "\n",
      "[141 rows x 1 columns]\n"
     ]
    }
   ],
   "source": [
    "sorted_by_epoch = df.sort_values('time')\n",
    "for i, val in sorted_by_epoch.iterrows(): # iterating over rows to convert epoch time to normal time\n",
    "  epoch_time = datetime.fromtimestamp(val['time']).minute\n",
    "  val['time'] = epoch_time\n",
    "sorted_by_time = sorted_by_epoch[['time', 'src', 'record_type']]\n",
    "t2_series = sorted_by_time.groupby(['time', 'src'])['record_type'].size() # grouping with time and source\n",
    "table2 = pd.DataFrame(t2_series)\n",
    "table2.rename(columns={'record_type': 'dnsQueries_count'}, inplace=True)\n",
    "print('Table II\\n', table2)"
   ]
  },
  {
   "cell_type": "markdown",
   "metadata": {
    "id": "MfsrQHDFq9ef"
   },
   "source": [
    "### Task 3"
   ]
  },
  {
   "cell_type": "code",
   "execution_count": null,
   "metadata": {
    "colab": {
     "base_uri": "https://localhost:8080/",
     "height": 530
    },
    "executionInfo": {
     "elapsed": 970,
     "status": "ok",
     "timestamp": 1625778379051,
     "user": {
      "displayName": "Kesava Karri",
      "photoUrl": "https://lh3.googleusercontent.com/a-/AOh14GiKOze0GA7fRhcXqzqiBopk4OIC1yA4DDxB84eFBw=s64",
      "userId": "16199566419544100345"
     },
     "user_tz": 240
    },
    "id": "koK6RvI9q8hY",
    "outputId": "b39257a6-79ad-4966-e6ca-5162b7963d8e"
   },
   "outputs": [
    {
     "data": {
      "text/plain": [
       "Text(0, 0.5, 'DNS Queries Count')"
      ]
     },
     "execution_count": 35,
     "metadata": {
      "tags": []
     },
     "output_type": "execute_result"
    },
    {
     "data": {
      "image/png": "[encoded data removed]",
      "text/plain": [
       "<Figure size 1080x576 with 1 Axes>"
      ]
     },
     "metadata": {
      "needs_background": "light",
      "tags": []
     },
     "output_type": "display_data"
    }
   ],
   "source": [
    "plt.figure(figsize=[15, 8])\n",
    "sns.lineplot(data=table2, x='time', y='dnsQueries_count', hue='src', )\n",
    "plt.title('Number of DNS queries by each source IP per minute')\n",
    "plt.xlabel('Minutes')\n",
    "plt.ylabel('DNS Queries Count')"
   ]
  }
 ],
 "metadata": {
  "colab": {
   "collapsed_sections": [],
   "name": "packet_analysis.ipynb",
   "provenance": []
  },
  "kernelspec": {
   "display_name": "Python 3 (ipykernel)",
   "language": "python",
   "name": "python3"
  },
  "language_info": {
   "codemirror_mode": {
    "name": "ipython",
    "version": 3
   },
   "file_extension": ".py",
   "mimetype": "text/x-python",
   "name": "python",
   "nbconvert_exporter": "python",
   "pygments_lexer": "ipython3",
   "version": "3.8.10"
  }
 },
 "nbformat": 4,
 "nbformat_minor": 1
}
